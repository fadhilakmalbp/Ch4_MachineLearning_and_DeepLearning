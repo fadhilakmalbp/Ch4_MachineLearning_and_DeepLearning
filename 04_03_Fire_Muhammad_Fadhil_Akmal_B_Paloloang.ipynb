{
  "cells": [
    {
      "cell_type": "code",
      "execution_count": 1,
      "metadata": {
        "id": "EauNKxXsSznF",
        "colab": {
          "base_uri": "https://localhost:8080/"
        },
        "outputId": "08023e55-6f6a-4778-a7a0-09b5b075a499"
      },
      "outputs": [
        {
          "output_type": "stream",
          "name": "stderr",
          "text": [
            "<ipython-input-1-05a2c0b08704>:4: TqdmExperimentalWarning: Using `tqdm.autonotebook.tqdm` in notebook mode. Use `tqdm.tqdm` instead to force console mode (e.g. in jupyter console)\n",
            "  from tqdm.autonotebook import tqdm\n"
          ]
        }
      ],
      "source": [
        "import torch, torchvision, time\n",
        "from numpy.random import seed\n",
        "from numpy import transpose\n",
        "from tqdm.autonotebook import tqdm\n",
        "from matplotlib import pyplot as plt\n",
        "from copy import deepcopy\n",
        "from warnings import filterwarnings as fw; fw(\"ignore\")"
      ]
    },
    {
      "cell_type": "markdown",
      "metadata": {
        "id": "wWuEGHH38cRL"
      },
      "source": [
        "# MNIST Handwritten Digit using PyTorch"
      ]
    },
    {
      "cell_type": "code",
      "execution_count": 2,
      "metadata": {
        "id": "yQyZ-4uP8cRP"
      },
      "outputs": [],
      "source": [
        "def plot_performance(dict_ : dict, *args, **kwargs) -> None:\n",
        "    my_figure = plt.figure(figsize=(12, 4))\n",
        "\n",
        "    m = my_figure.add_subplot(121)\n",
        "    plt.plot(dict_[\"train_loss\"], label=\"Train Loss\")\n",
        "    plt.plot(dict_[\"val_loss\"], label=\"Valid. Loss\")\n",
        "    plt.title(\"LOSS\")\n",
        "    plt.xlabel(\"Epoch\")\n",
        "    plt.ylabel(\"Score\")\n",
        "    plt.legend(loc=\"best\")\n",
        "\n",
        "    n = my_figure.add_subplot(122)\n",
        "    plt.plot(dict_[\"train_acc\"], label=\"Train Accuracy\")\n",
        "    plt.plot(dict_[\"val_acc\"], label=\"Valid. Accuracy\")\n",
        "    plt.title(\"ACCURACY\")\n",
        "    plt.xlabel(\"Epoch\")\n",
        "    plt.ylabel(\"Score\")\n",
        "    plt.legend(loc=\"best\")\n",
        "\n",
        "    plt.tight_layout()\n",
        "    plt.show()"
      ]
    },
    {
      "cell_type": "markdown",
      "metadata": {
        "id": "GvyfLsQn8cRQ"
      },
      "source": [
        "* Define Seedings"
      ]
    },
    {
      "cell_type": "code",
      "execution_count": 3,
      "metadata": {
        "id": "be5_BqA-8cRQ"
      },
      "outputs": [],
      "source": [
        "SEED = 0\n",
        "# cpu\n",
        "seed(SEED)\n",
        "torch.manual_seed(SEED)\n",
        "\n",
        "# GPU\n",
        "torch.cuda.manual_seed(SEED)\n",
        "torch.cuda.manual_seed_all(SEED)\n",
        "torch.backends.cudnn.deterministic = True"
      ]
    },
    {
      "cell_type": "markdown",
      "metadata": {
        "id": "Vx7TdNLG8cRR"
      },
      "source": [
        "* Set Hyperparameters"
      ]
    },
    {
      "cell_type": "code",
      "execution_count": 4,
      "metadata": {
        "id": "cQh66aEw8cRS"
      },
      "outputs": [],
      "source": [
        "EPOCH = 20\n",
        "BATCH_SIZE = 256\n",
        "LEARNING_RATE = 3e-3"
      ]
    },
    {
      "cell_type": "markdown",
      "metadata": {
        "id": "fR0w2XtH8cRS"
      },
      "source": [
        "* Data Augmentation"
      ]
    },
    {
      "cell_type": "code",
      "execution_count": 14,
      "metadata": {
        "id": "h_NQznIZ8cRT"
      },
      "outputs": [],
      "source": [
        "data_transform = torchvision.transforms.Compose([\n",
        "    torchvision.transforms.Grayscale(),\n",
        "    torchvision.transforms.RandomRotation(20),\n",
        "    torchvision.transforms.ToTensor(),\n",
        "    torchvision.transforms.Normalize((0.5,), (0.5,))\n",
        "])"
      ]
    },
    {
      "cell_type": "markdown",
      "metadata": {
        "id": "1YxPV3mT8cRU"
      },
      "source": [
        "* Download and split MNIST Handwritten Digit datasets"
      ]
    },
    {
      "cell_type": "code",
      "execution_count": 15,
      "metadata": {
        "id": "PFr0ltfz8cRV"
      },
      "outputs": [],
      "source": [
        "# Training and validation sets\n",
        "train_dataset = torchvision.datasets.MNIST(root='.', train=True, download=True, transform=data_transform)\n",
        "train_dataset, valid_dataset = torch.utils.data.random_split(train_dataset, [50000, 10000])\n",
        "\n",
        "# Test sets\n",
        "test_dataset = torchvision.datasets.MNIST(root='.', train=False, download=True, transform=data_transform)\n",
        "\n",
        "# DataLoader --> assign raw datasets into mini-batches\n",
        "train_loader = torch.utils.data.DataLoader(train_dataset, batch_size=BATCH_SIZE, shuffle=True)\n",
        "valid_loader = torch.utils.data.DataLoader(valid_dataset, batch_size=BATCH_SIZE, shuffle=True)\n",
        "test_loader = torch.utils.data.DataLoader(test_dataset, batch_size=BATCH_SIZE, shuffle=False)"
      ]
    },
    {
      "cell_type": "code",
      "execution_count": 16,
      "metadata": {
        "id": "P9_thmnB8cRW",
        "colab": {
          "base_uri": "https://localhost:8080/"
        },
        "outputId": "f2a697ca-4d3a-4931-9633-7e032f05d6ea"
      },
      "outputs": [
        {
          "output_type": "stream",
          "name": "stdout",
          "text": [
            "Total TRAIN dataset: 50000.\n",
            "For mini-batch settings, there will be 196 batches, with 256 data for each batch.\n"
          ]
        }
      ],
      "source": [
        "print(\"Total TRAIN dataset: {}.\\nFor mini-batch settings, there will be {} batches, with {} data for each batch.\" \\\n",
        "      .format(len(train_dataset), len(train_loader), BATCH_SIZE))"
      ]
    },
    {
      "cell_type": "code",
      "execution_count": 8,
      "metadata": {
        "id": "6H2uUSPS8cRX",
        "colab": {
          "base_uri": "https://localhost:8080/"
        },
        "outputId": "dc7e26c8-1e64-4e5b-84aa-cff1069dd31d"
      },
      "outputs": [
        {
          "output_type": "stream",
          "name": "stdout",
          "text": [
            "Total VALIDATION dataset: 10000.\n",
            "For mini-batch settings, there will be 40 batches, with 256 data for each batch.\n"
          ]
        }
      ],
      "source": [
        "print(\"Total VALIDATION dataset: {}.\\nFor mini-batch settings, there will be {} batches, with {} data for each batch.\" \\\n",
        "      .format(len(valid_dataset), len(valid_loader), BATCH_SIZE))"
      ]
    },
    {
      "cell_type": "code",
      "execution_count": 9,
      "metadata": {
        "id": "coBsXTJd8cRY",
        "colab": {
          "base_uri": "https://localhost:8080/"
        },
        "outputId": "97a3a7a2-fbfc-4b1c-dad4-17cf47bd05d5"
      },
      "outputs": [
        {
          "output_type": "stream",
          "name": "stdout",
          "text": [
            "Total TEST dataset: 10000.\n",
            "For mini-batch settings, there will be 40 batches, with 256 data for each batch.\n"
          ]
        }
      ],
      "source": [
        "print(\"Total TEST dataset: {}.\\nFor mini-batch settings, there will be {} batches, with {} data for each batch.\" \\\n",
        "      .format(len(test_dataset), len(test_loader), BATCH_SIZE))"
      ]
    },
    {
      "cell_type": "markdown",
      "metadata": {
        "id": "oCPOjnrW8cRZ"
      },
      "source": [
        "* Show some images"
      ]
    },
    {
      "cell_type": "code",
      "source": [
        "# Visualizing several MNIST datasets\n",
        "import matplotlib.pyplot as plt\n",
        "\n",
        "dataiter = iter(train_loader)\n",
        "images, labels = next(dataiter)\n",
        "\n",
        "fig, axes = plt.subplots(2, 5, figsize=(12, 6))\n",
        "axes = axes.flatten()\n",
        "\n",
        "for i in range(10):\n",
        "    axes[i].imshow(images[i].squeeze(), cmap='gray')\n",
        "    axes[i].set_title(str(labels[i].item()))"
      ],
      "metadata": {
        "colab": {
          "base_uri": "https://localhost:8080/",
          "height": 495
        },
        "id": "GL0Sq0DP13zX",
        "outputId": "f4b15ebd-4e3a-4aa1-f2e8-1c712dc165bb"
      },
      "execution_count": 18,
      "outputs": [
        {
          "output_type": "display_data",
          "data": {
            "text/plain": [
              "<Figure size 1200x600 with 10 Axes>"
            ],
            "image/png": "[encoded data removed]"
          },
          "metadata": {}
        }
      ]
    },
    {
      "cell_type": "markdown",
      "metadata": {
        "id": "MsBijNR38cRc"
      },
      "source": [
        "### Define Model"
      ]
    },
    {
      "cell_type": "code",
      "source": [
        "class PerceptronModel(torch.nn.Module):\n",
        "  def __init__(self, n_class: int, *args, **kwargs) -> None:\n",
        "    super(PerceptronModel, self).__init__()\n",
        "    self.n_class = n_class\n",
        "\n",
        "    # Feature extractor (flatten input)\n",
        "    self.flatten = torch.nn.Flatten()\n",
        "\n",
        "    # Classifier (Perceptron/Simple ANN)\n",
        "    self.fc1 = torch.nn.Linear(in_features=784, out_features=self.n_class)\n",
        "\n",
        "  def forward(self, data, *args, **kwargs) -> torchvision.models:\n",
        "    x = self.flatten(data)\n",
        "    x = self.fc1(x)\n",
        "\n",
        "    return x"
      ],
      "metadata": {
        "id": "ps__JUHrBRLu"
      },
      "execution_count": 19,
      "outputs": []
    },
    {
      "cell_type": "markdown",
      "metadata": {
        "id": "-5W0KXU72-PT"
      },
      "source": [
        "* Set the device: **CUDA®**"
      ]
    },
    {
      "cell_type": "code",
      "execution_count": 20,
      "metadata": {
        "id": "RcXwCjR1Ylkv",
        "colab": {
          "base_uri": "https://localhost:8080/"
        },
        "outputId": "f4baa37b-edca-4822-a4c6-ae9dbff3be15"
      },
      "outputs": [
        {
          "output_type": "execute_result",
          "data": {
            "text/plain": [
              "device(type='cuda')"
            ]
          },
          "metadata": {},
          "execution_count": 20
        }
      ],
      "source": [
        "device = torch.device(\"cuda\" if torch.cuda.is_available() else \"cpu\")\n",
        "device"
      ]
    },
    {
      "cell_type": "markdown",
      "metadata": {
        "id": "NjiJsWD18cRv"
      },
      "source": [
        "* Call the model"
      ]
    },
    {
      "cell_type": "code",
      "source": [
        "model = PerceptronModel(n_class=784).to(device)\n",
        "model"
      ],
      "metadata": {
        "colab": {
          "base_uri": "https://localhost:8080/"
        },
        "id": "q1F0i5glD9D7",
        "outputId": "41474234-39ea-4b97-ff8d-f7aa6838c7ec"
      },
      "execution_count": 21,
      "outputs": [
        {
          "output_type": "execute_result",
          "data": {
            "text/plain": [
              "PerceptronModel(\n",
              "  (flatten): Flatten(start_dim=1, end_dim=-1)\n",
              "  (fc1): Linear(in_features=784, out_features=784, bias=True)\n",
              ")"
            ]
          },
          "metadata": {},
          "execution_count": 21
        }
      ]
    },
    {
      "cell_type": "markdown",
      "metadata": {
        "id": "6rJI906W8cRw"
      },
      "source": [
        "* Set Loss Function and Optimizer"
      ]
    },
    {
      "cell_type": "code",
      "execution_count": 22,
      "metadata": {
        "id": "7IashHkF8cRw"
      },
      "outputs": [],
      "source": [
        "loss_function = torch.nn.CrossEntropyLoss() # CrossEntropy\n",
        "optimizer = torch.optim.Adam(model.parameters(), lr=LEARNING_RATE) # ADAM = Adaptive Moment Estimation"
      ]
    },
    {
      "cell_type": "markdown",
      "metadata": {
        "id": "OZo9aR_x8cRx"
      },
      "source": [
        "### Start model training"
      ]
    },
    {
      "cell_type": "markdown",
      "metadata": {
        "id": "T66whGQx8cRx"
      },
      "source": [
        "* Training and validation phases"
      ]
    },
    {
      "cell_type": "code",
      "execution_count": 24,
      "metadata": {
        "scrolled": true,
        "tags": [],
        "id": "FZBm1MSs8cRy",
        "colab": {
          "base_uri": "https://localhost:8080/"
        },
        "outputId": "af003017-8af6-4c31-c0bf-fdd58f5076e3"
      },
      "outputs": [
        {
          "output_type": "stream",
          "name": "stdout",
          "text": [
            "Epoch 1/20\n",
            "Training Loss: 0.647, accuracy: 81.297%\n",
            "Validation Loss: 0.471, accuracy: 85.449%\n",
            "\n",
            "Epoch 2/20\n",
            "Training Loss: 0.445, accuracy: 86.755%\n",
            "Validation Loss: 0.443, accuracy: 86.934%\n",
            "\n",
            "Epoch 3/20\n",
            "Training Loss: 0.431, accuracy: 87.275%\n",
            "Validation Loss: 0.433, accuracy: 86.855%\n",
            "\n",
            "Epoch 4/20\n",
            "Training Loss: 0.423, accuracy: 87.649%\n",
            "Validation Loss: 0.450, accuracy: 86.514%\n",
            "\n",
            "Epoch 5/20\n",
            "Training Loss: 0.419, accuracy: 87.734%\n",
            "Validation Loss: 0.425, accuracy: 87.578%\n",
            "\n",
            "Epoch 6/20\n",
            "Training Loss: 0.414, accuracy: 87.844%\n",
            "Validation Loss: 0.426, accuracy: 87.021%\n",
            "\n",
            "Epoch 7/20\n",
            "Training Loss: 0.414, accuracy: 88.106%\n",
            "Validation Loss: 0.416, accuracy: 87.510%\n",
            "\n",
            "Epoch 8/20\n",
            "Training Loss: 0.408, accuracy: 88.248%\n",
            "Validation Loss: 0.414, accuracy: 87.559%\n",
            "\n",
            "Epoch 9/20\n",
            "Training Loss: 0.402, accuracy: 88.352%\n",
            "Validation Loss: 0.423, accuracy: 87.129%\n",
            "\n",
            "Epoch 10/20\n",
            "Training Loss: 0.400, accuracy: 88.404%\n",
            "Validation Loss: 0.401, accuracy: 87.754%\n",
            "\n",
            "Epoch 11/20\n",
            "Training Loss: 0.407, accuracy: 88.217%\n",
            "Validation Loss: 0.416, accuracy: 87.900%\n",
            "\n",
            "Epoch 12/20\n",
            "Training Loss: 0.404, accuracy: 88.110%\n",
            "Validation Loss: 0.427, accuracy: 86.904%\n",
            "\n",
            "Epoch 13/20\n",
            "Training Loss: 0.402, accuracy: 88.322%\n",
            "Validation Loss: 0.454, accuracy: 86.943%\n",
            "\n",
            "Epoch 14/20\n",
            "Training Loss: 0.412, accuracy: 87.958%\n",
            "Validation Loss: 0.428, accuracy: 87.285%\n",
            "\n",
            "Epoch 15/20\n",
            "Training Loss: 0.406, accuracy: 88.361%\n",
            "Validation Loss: 0.412, accuracy: 87.627%\n",
            "\n",
            "Epoch 16/20\n",
            "Training Loss: 0.401, accuracy: 88.392%\n",
            "Validation Loss: 0.421, accuracy: 87.607%\n",
            "\n",
            "Epoch 17/20\n",
            "Training Loss: 0.399, accuracy: 88.475%\n",
            "Validation Loss: 0.392, accuracy: 88.574%\n",
            "\n",
            "Epoch 18/20\n",
            "Training Loss: 0.393, accuracy: 88.544%\n",
            "Validation Loss: 0.405, accuracy: 88.291%\n",
            "\n",
            "Epoch 19/20\n",
            "Training Loss: 0.398, accuracy: 88.565%\n",
            "Validation Loss: 0.393, accuracy: 88.301%\n",
            "\n",
            "Epoch 20/20\n",
            "Training Loss: 0.398, accuracy: 88.524%\n",
            "Validation Loss: 0.427, accuracy: 87.773%\n",
            "\n",
            "Training time: 394.768s\n"
          ]
        }
      ],
      "source": [
        "TRAIN_LOSS, TRAIN_ACC = [], []\n",
        "train_batches = len(train_loader)\n",
        "\n",
        "VAL_LOSS, VAL_ACC = [], []\n",
        "val_batches = len(valid_loader)\n",
        "\n",
        "# loop for every epoch (training + evaluation)\n",
        "start_ts = time.time()\n",
        "for e in range(EPOCH): # Epoch\n",
        "    train_losses = 0\n",
        "    train_accuracies = 0\n",
        "\n",
        "    # ----------------- TRAINING  --------------------\n",
        "    model.train()\n",
        "\n",
        "    for i, data in enumerate(train_loader): # Mini-Batch\n",
        "      X = data[0].to(device)\n",
        "      y = data[1].to(device)\n",
        "\n",
        "      model.zero_grad()\n",
        "\n",
        "      # forward pass\n",
        "      outputs = model(X)\n",
        "      loss = loss_function(outputs, y)\n",
        "\n",
        "      # Backward pass\n",
        "      loss.backward()\n",
        "      optimizer.step()\n",
        "\n",
        "      train_losses += loss.item()\n",
        "\n",
        "      # measure Accuracy\n",
        "      ps = torch.exp(outputs)\n",
        "      top_p, top_class = ps.topk(1, dim=1)\n",
        "      equals = top_class == y.view(*top_class.shape)\n",
        "      train_accuracies += torch.mean(equals.type(torch.FloatTensor)).item()\n",
        "\n",
        "    TRAIN_ACC.append(train_accuracies/train_batches)\n",
        "    TRAIN_LOSS.append(train_losses/train_batches)\n",
        "\n",
        "    # releasing unceseccary memory in GPU\n",
        "    if torch.cuda.is_available():\n",
        "      torch.cuda.empty_cache()\n",
        "\n",
        "    # ----------------- VALIDATION  -----------------\n",
        "    val_losses = 0\n",
        "    val_accuracies = 0\n",
        "\n",
        "    model.eval()\n",
        "    with torch.no_grad():\n",
        "      for i, data in enumerate(valid_loader):\n",
        "        X = data[0].to(device)\n",
        "        y = data[1].to(device)\n",
        "\n",
        "        outputs = model(X)\n",
        "        val_losses += loss_function(outputs, y).item()\n",
        "\n",
        "        # measure Accuracy\n",
        "        ps = torch.exp(outputs)\n",
        "        top_p, top_class = ps.topk(1, dim=1)\n",
        "        equals = top_class == y.view(*top_class.shape)\n",
        "        val_accuracies += torch.mean(equals.type(torch.FloatTensor)).item()\n",
        "\n",
        "    print(\"Epoch {}/{}\".format(e+1, EPOCH))\n",
        "    print(\"Training Loss: {:.3f}, accuracy: {:.3f}%\".format(train_losses/train_batches, train_accuracies/train_batches*100))\n",
        "    print(\"Validation Loss: {:.3f}, accuracy: {:.3f}%\".format(val_losses/val_batches, val_accuracies/val_batches*100))\n",
        "    print()\n",
        "\n",
        "    VAL_ACC.append(val_accuracies/val_batches)\n",
        "    VAL_LOSS.append(val_losses/val_batches)\n",
        "\n",
        "tr_time = time.time()-start_ts\n",
        "print(\"Training time: {:.3f}s\".format(tr_time))"
      ]
    },
    {
      "cell_type": "markdown",
      "source": [
        "* Evaluation"
      ],
      "metadata": {
        "id": "1HRnNFtYgl8p"
      }
    },
    {
      "cell_type": "code",
      "source": [
        "plot_performance({\n",
        "    \"train_acc\": TRAIN_ACC,\n",
        "    \"train_loss\": TRAIN_LOSS,\n",
        "    \"val_acc\": VAL_ACC,\n",
        "    \"val_loss\": VAL_LOSS\n",
        "})"
      ],
      "metadata": {
        "colab": {
          "base_uri": "https://localhost:8080/",
          "height": 427
        },
        "id": "TpFE10GSGD5G",
        "outputId": "a5d8707c-82d1-4fdd-e48a-134960f7a7c3"
      },
      "execution_count": 25,
      "outputs": [
        {
          "output_type": "display_data",
          "data": {
            "text/plain": [
              "<Figure size 1200x400 with 2 Axes>"
            ],
            "image/png": "[encoded data removed]"
          },
          "metadata": {}
        }
      ]
    },
    {
      "cell_type": "markdown",
      "source": [
        "### Result"
      ],
      "metadata": {
        "id": "S_gyj9BqGvUd"
      }
    },
    {
      "cell_type": "markdown",
      "source": [
        "Berdasarkan hasil yang didapatkan Model jaringan saraf tiruan **Perceptron** yang telah diimplementasikan untuk mengklasifikasikan **Handwritten Digit** dalam dataset MNIST memiliki akurasi sebesar **87%**. Ini menunjukkan bahwa model cukup baik dalam mengenali digit-digit tulisan tangan. Proses pelatihan model dilakukan selama **20 epoch**, dan kinerja model terus meningkat seiring berjalannya waktu."
      ],
      "metadata": {
        "id": "sMWPXXK1MPD8"
      }
    }
  ],
  "metadata": {
    "accelerator": "GPU",
    "colab": {
      "provenance": [],
      "gpuType": "T4"
    },
    "kernelspec": {
      "display_name": "Python 3",
      "name": "python3"
    },
    "language_info": {
      "codemirror_mode": {
        "name": "ipython",
        "version": 3
      },
      "file_extension": ".py",
      "mimetype": "text/x-python",
      "name": "python",
      "nbconvert_exporter": "python",
      "pygments_lexer": "ipython3",
      "version": "3.9.12"
    }
  },
  "nbformat": 4,
  "nbformat_minor": 0
}